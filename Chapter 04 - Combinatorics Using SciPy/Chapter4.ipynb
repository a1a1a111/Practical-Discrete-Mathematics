{
  "cells": [
    {
      "cell_type": "markdown",
      "metadata": {
        "id": "view-in-github",
        "colab_type": "text"
      },
      "source": [
        "<a href=\"https://colab.research.google.com/github/a1a1a111/Practical-Discrete-Mathematics/blob/master/Chapter%2004%20-%20Combinatorics%20Using%20SciPy/Chapter4.ipynb\" target=\"_parent\"><img src=\"https://colab.research.google.com/assets/colab-badge.svg\" alt=\"Open In Colab\"/></a>"
      ]
    },
    {
      "cell_type": "markdown",
      "metadata": {
        "id": "7Rxag5kl6R5D"
      },
      "source": [
        "# Chapter 4 - Combinatorics Using SciPy\n",
        "\n",
        "This notebook contains code accompanying Chapter 4 Combinatorics Using SciPy in *Practical Discrete Mathematics* by Ryan T. White and Archana Tikayat Ray.\n",
        "\n",
        "## Counting Permutations and Combinations of Objects\n",
        "\n",
        "### Growth of Factorials\n",
        "\n",
        "Below, we compute some factorials, which count permutations."
      ]
    },
    {
      "cell_type": "code",
      "execution_count": null,
      "metadata": {
        "id": "lqYH40mR6R5H",
        "outputId": "35ce025f-153f-442c-a75d-bf4e4e7a275b"
      },
      "outputs": [
        {
          "name": "stdout",
          "output_type": "stream",
          "text": [
            "2432902008176640000\n",
            "93326215443944152681699238856266700490715968264381621468592963895217599993229915608941463976156518286253697920827223758251185210916864000000000000000000000000\n"
          ]
        }
      ],
      "source": [
        "import math\n",
        "print(math.factorial(20))\n",
        "print(math.factorial(100))"
      ]
    },
    {
      "cell_type": "markdown",
      "metadata": {
        "id": "ErKWbAPV6R5J"
      },
      "source": [
        "### Example: Counting playlists\n",
        "\n",
        "The number of 10-permutations of the 20-song list can be computed with Python as follows."
      ]
    },
    {
      "cell_type": "code",
      "execution_count": null,
      "metadata": {
        "id": "v-tqf7UA6R5J",
        "outputId": "66f79f72-e8dc-4767-c376-0839f8844c0d"
      },
      "outputs": [
        {
          "name": "stdout",
          "output_type": "stream",
          "text": [
            "670442572800.0\n"
          ]
        }
      ],
      "source": [
        "import math\n",
        "print(math.factorial(20)/math.factorial(20-10))"
      ]
    },
    {
      "cell_type": "markdown",
      "metadata": {
        "id": "HKyPJ_YG6R5K"
      },
      "source": [
        "### Example: Teambuilding\n",
        "\n",
        "The code below finds the number of possible 4-person teams we could build from four of twenty people."
      ]
    },
    {
      "cell_type": "code",
      "execution_count": null,
      "metadata": {
        "id": "SZgZDyzr6R5L",
        "outputId": "cf1158fc-98b9-4e7e-c4ba-658dc78f223c"
      },
      "outputs": [
        {
          "name": "stdout",
          "output_type": "stream",
          "text": [
            "4845.0\n",
            "4845.0\n"
          ]
        }
      ],
      "source": [
        "# using the factorial function\n",
        "import math\n",
        "print(math.factorial(20) / math.factorial(4) / math.factorial(20-4))\n",
        "\n",
        "# import the special functions from sciPy\n",
        "import scipy.special\n",
        "print(scipy.special.binom(20,4))"
      ]
    },
    {
      "cell_type": "markdown",
      "metadata": {
        "id": "bJb0e2Jt6R5M"
      },
      "source": [
        "## Applications to Memory Allocation\n",
        "\n",
        "### Example: Pre-allocating Memory\n",
        "\n",
        "Suppose we wish to create a large list of 1,000,000 numbers. The simplest way is to just run a loop, adding one element at a time to the vector. (Note that the runtime will vary depending on the hardware where you run the code.)"
      ]
    },
    {
      "cell_type": "code",
      "execution_count": null,
      "metadata": {
        "id": "hPb0PSCs6R5N",
        "outputId": "d05e6a70-204e-4f75-f2f9-d1144e84e723"
      },
      "outputs": [
        {
          "name": "stdout",
          "output_type": "stream",
          "text": [
            "0.13155269622802734\n"
          ]
        }
      ],
      "source": [
        "import time\n",
        "\n",
        "number = 1000000\n",
        "\n",
        "# Check the current time\n",
        "startTime = time.time()\n",
        "\n",
        "# Create an empty list\n",
        "list = []\n",
        "\n",
        "# Add items to the list one by one\n",
        "for counter in range(number):\n",
        "    list.append(counter)\n",
        "\n",
        "# Display the run time\n",
        "print(time.time() - startTime)"
      ]
    },
    {
      "cell_type": "markdown",
      "metadata": {
        "id": "FH8WvrCl6R5O"
      },
      "source": [
        "The code below can pre-allocate an array with 1,000,000 and fill it in with 1, 2, ..., 1,000,000. (Note that the runtime will vary depending on the hardware where you run the code.)"
      ]
    },
    {
      "cell_type": "code",
      "execution_count": null,
      "metadata": {
        "id": "IBwfSFoR6R5O",
        "outputId": "9ebea887-a6ee-49bf-e458-6ffcfd724579"
      },
      "outputs": [
        {
          "name": "stdout",
          "output_type": "stream",
          "text": [
            "0.10027527809143066\n"
          ]
        }
      ],
      "source": [
        "import time\n",
        "number = 1000000\n",
        "\n",
        "# Check the current time\n",
        "startTime = time.time()\n",
        "\n",
        "# Create a list of 1000000 zeros\n",
        "list = [None]*number\n",
        "\n",
        "# Add items to the list one by one\n",
        "for counter in range(number):\n",
        "    list[counter] = counter\n",
        "\n",
        "# Display the run time\n",
        "print(time.time() - startTime)"
      ]
    },
    {
      "cell_type": "markdown",
      "metadata": {
        "id": "MwHncxAT6R5O"
      },
      "source": [
        "## Efficacy of Brute Force Algorithms\n",
        "\n",
        "### Example: Caesar Cipher\n",
        "\n",
        "A brute force check of how the text would be decoded for each possible Caesar cipher."
      ]
    },
    {
      "cell_type": "code",
      "execution_count": null,
      "metadata": {
        "id": "5JWQBJz_6R5P",
        "outputId": "757da290-6567-426f-ed47-a5c0e46e510a"
      },
      "outputs": [
        {
          "name": "stdout",
          "output_type": "stream",
          "text": [
            "0 nzohfu gur rarzl ng avtug\n",
            "1 oapigv hvs sbsam oh bwuvh\n",
            "2 pbqjhw iwt tctbn pi cxvwi\n",
            "3 qcrkix jxu uduco qj dywxj\n",
            "4 rdsljy kyv vevdp rk ezxyk\n",
            "5 setmkz lzw wfweq sl fayzl\n",
            "6 tfunla max xgxfr tm gbzam\n",
            "7 ugvomb nby yhygs un hcabn\n",
            "8 vhwpnc ocz zizht vo idbco\n",
            "9 wixqod pda ajaiu wp jecdp\n",
            "10 xjyrpe qeb bkbjv xq kfdeq\n",
            "11 ykzsqf rfc clckw yr lgefr\n",
            "12 zlatrg sgd dmdlx zs mhfgs\n",
            "13 ambush the enemy at night\n",
            "14 bncvti uif fofnz bu ojhiu\n",
            "15 codwuj vjg gpgoa cv pkijv\n",
            "16 dpexvk wkh hqhpb dw qljkw\n",
            "17 eqfywl xli iriqc ex rmklx\n",
            "18 frgzxm ymj jsjrd fy snlmy\n",
            "19 gshayn znk ktkse gz tomnz\n",
            "20 htibzo aol lultf ha upnoa\n",
            "21 iujcap bpm mvmug ib vqopb\n",
            "22 jvkdbq cqn nwnvh jc wrpqc\n",
            "23 kwlecr dro oxowi kd xsqrd\n",
            "24 lxmfds esp pypxj le ytrse\n",
            "25 mynget ftq qzqyk mf zustf\n"
          ]
        }
      ],
      "source": [
        "# Intercepted message\n",
        "codedMessage = 'nzohfu gur rarzl ng avtug'\n",
        "\n",
        "# We will shift by 0, shift by 1, shift by 2, ... and print the results\n",
        "for counter in range(26):\n",
        "    # Start with no guess\n",
        "    guessedMessage = ''\n",
        "\n",
        "    # Loop through each letter in the coded message\n",
        "    for x in codedMessage:\n",
        "\n",
        "        # If x is not a space\n",
        "        if x != ' ':\n",
        "\n",
        "            # Shift the letter forward by counter\n",
        "            if ord(x)+counter <= 122:\n",
        "                x = chr(ord(x)+counter)\n",
        "\n",
        "            # Subtract 26 if we go beyond z\n",
        "            else:\n",
        "                x = chr(ord(x)+counter-26)\n",
        "\n",
        "        # Build a guess for the message one letter at a time\n",
        "        guessedMessage = guessedMessage + x\n",
        "\n",
        "    # Print the counter (the shift) and the message\n",
        "    print(counter, guessedMessage)\n"
      ]
    },
    {
      "cell_type": "markdown",
      "source": [
        "def find_caesar_cipher_key(original_word, decrypted_word):\n",
        "    original_word = ''.join([char for char in original_word if char.isalpha()])\n",
        "    decrypted_word = ''.join([char for char in decrypted_word if char.isalpha()])\n",
        "    \n",
        "    if len(original_word) != len(decrypted_word):\n",
        "        raise ValueError(\"The filtered words must have the same length.\")\n",
        "    \n",
        "    shifts = []\n",
        "    \n",
        "    for i in range(len(original_word)):\n",
        "        original_char = original_word[i]\n",
        "        decrypted_char = decrypted_word[i]\n",
        "        \n",
        "        shift = (ord(decrypted_char.upper()) - ord(original_char.upper())) % 26\n",
        "        shifts.append(shift)\n",
        "    \n",
        "    if len(set(shifts)) == 1:\n",
        "        return shifts[0]\n",
        "    else:\n",
        "        return None\n",
        "\n",
        "original_word = \"S3CURE!\"\n",
        "decrypted_word = \"V3FZWH!\"\n",
        "key = find_caesar_cipher_key(original_word, decrypted_word)\n",
        "print(\"The cipher key is:\", key)\n"
      ],
      "metadata": {
        "id": "iYD1w24X6bY8"
      }
    },
    {
      "cell_type": "markdown",
      "metadata": {
        "id": "ljI1yw-46R5P"
      },
      "source": [
        "Clearly, the length of the shift is 13 letters as only this one produces an intelligible message."
      ]
    },
    {
      "cell_type": "markdown",
      "source": [
        "Given the following original and decrypted words, write a Python function to determine the possible cipher keys used in a Caesar cipher. The function should ignore any non-alphabetic characters in the words.\n",
        "\n",
        "Orginal Word: \"S3CURE!\"\n",
        "\n",
        "Decrypted Word: \"V3FZWHI\n",
        "\n",
        "What are the possible keys, and how would you implement this in Python?"
      ],
      "metadata": {
        "id": "0Mls-7gm-Nvg"
      }
    },
    {
      "cell_type": "code",
      "source": [
        "def find_possible_caesar_keys(original, encrypted):\n",
        "    possible_keys = []\n",
        "\n",
        "    for shift in range(26):\n",
        "        transformed = \"\"\n",
        "\n",
        "        for char in original:\n",
        "            if char.isalpha():\n",
        "                new_char = chr(((ord(char.lower()) - ord('a') + shift) % 26) + ord('a'))\n",
        "                if char.isupper():\n",
        "                    transformed += new_char.upper()\n",
        "                else:\n",
        "                    transformed += new_char\n",
        "            else:\n",
        "                transformed += char\n",
        "\n",
        "        print(f\"Shift {shift}: {transformed}\")\n",
        "\n",
        "        if transformed == encrypted:\n",
        "            possible_keys.append(shift)\n",
        "\n",
        "        if len(possible_keys) == 3:\n",
        "            break\n",
        "\n",
        "    return possible_keys\n",
        "\n",
        "original_word = \"S3CURE!\"\n",
        "encrypted_word = \"V3FXUH!\"\n",
        "keys = find_possible_caesar_keys(original_word, encrypted_word)\n",
        "print(\"\\nPossible keys:\", keys)"
      ],
      "metadata": {
        "id": "O4RC8Uzu-uWz",
        "outputId": "4a896981-b841-43cb-df29-8b097b12ec55",
        "colab": {
          "base_uri": "https://localhost:8080/"
        }
      },
      "execution_count": 9,
      "outputs": [
        {
          "output_type": "stream",
          "name": "stdout",
          "text": [
            "Shift 0: S3CURE!\n",
            "Shift 1: T3DVSF!\n",
            "Shift 2: U3EWTG!\n",
            "Shift 3: V3FXUH!\n",
            "Shift 4: W3GYVI!\n",
            "Shift 5: X3HZWJ!\n",
            "Shift 6: Y3IAXK!\n",
            "Shift 7: Z3JBYL!\n",
            "Shift 8: A3KCZM!\n",
            "Shift 9: B3LDAN!\n",
            "Shift 10: C3MEBO!\n",
            "Shift 11: D3NFCP!\n",
            "Shift 12: E3OGDQ!\n",
            "Shift 13: F3PHER!\n",
            "Shift 14: G3QIFS!\n",
            "Shift 15: H3RJGT!\n",
            "Shift 16: I3SKHU!\n",
            "Shift 17: J3TLIV!\n",
            "Shift 18: K3UMJW!\n",
            "Shift 19: L3VNKX!\n",
            "Shift 20: M3WOLY!\n",
            "Shift 21: N3XPMZ!\n",
            "Shift 22: O3YQNA!\n",
            "Shift 23: P3ZROB!\n",
            "Shift 24: Q3ASPC!\n",
            "Shift 25: R3BTQD!\n",
            "\n",
            "Possible keys: [3]\n"
          ]
        }
      ]
    }
  ],
  "metadata": {
    "kernelspec": {
      "display_name": "Python 3.7 (DL)",
      "language": "python",
      "name": "dl"
    },
    "language_info": {
      "codemirror_mode": {
        "name": "ipython",
        "version": 3
      },
      "file_extension": ".py",
      "mimetype": "text/x-python",
      "name": "python",
      "nbconvert_exporter": "python",
      "pygments_lexer": "ipython3",
      "version": "3.7.7"
    },
    "colab": {
      "provenance": [],
      "include_colab_link": true
    }
  },
  "nbformat": 4,
  "nbformat_minor": 0
}